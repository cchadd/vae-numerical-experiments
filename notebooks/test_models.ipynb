{
 "cells": [
  {
   "cell_type": "code",
   "execution_count": 1,
   "metadata": {},
   "outputs": [],
   "source": [
    "import matplotlib.pyplot as plt\n",
    "import torch\n",
    "import torch.nn as nn\n",
    "import torch.nn.functional as F\n",
    "import torch.optim as optim\n",
    "from torchvision import datasets, transforms\n",
    "from torch.autograd import Variable\n",
    "from torchvision.utils import save_image\n",
    "import random\n",
    "\n",
    "%matplotlib inline\n",
    "%load_ext autoreload\n",
    "%autoreload 2\n",
    "\n",
    "from vae.models.vae import VAE\n",
    "from vae.trainers.trainer import ModelTrainer\n"
   ]
  },
  {
   "cell_type": "code",
   "execution_count": 2,
   "metadata": {},
   "outputs": [],
   "source": [
    "torch.manual_seed(1)\n",
    "\n",
    "bs= 128\n",
    "\n",
    "def random_binarize(img):\n",
    "    return (torch.rand_like(img) < img).type(torch.float)\n",
    "\n",
    "transforms_stack = transforms.Compose([\n",
    "    transforms.ToTensor(),\n",
    "    transforms.Lambda(random_binarize),\n",
    "])\n",
    "\n",
    "train = datasets.MNIST(root='../data/',\n",
    "                       train=True,\n",
    "                       transform=transforms_stack,\n",
    "                       download=False)\n",
    "\n",
    "test = datasets.MNIST(root='../data/',\n",
    "                    train=False,\n",
    "                    transform=transforms_stack,\n",
    "                    download=False) \n",
    "\n",
    "\n",
    "\n",
    "\n",
    "# Data Loader (Input Pipeline)\n",
    "train_loader = torch.utils.data.DataLoader(dataset=train, batch_size=bs, shuffle=True)\n",
    "test_loader = torch.utils.data.DataLoader(dataset=test, batch_size=bs, shuffle=False)"
   ]
  },
  {
   "cell_type": "code",
   "execution_count": 3,
   "metadata": {},
   "outputs": [],
   "source": [
    "vae = VAE()\n",
    "if torch.cuda.is_available():\n",
    "    vae.cuda()"
   ]
  },
  {
   "cell_type": "code",
   "execution_count": 5,
   "metadata": {},
   "outputs": [
    {
     "name": "stdout",
     "output_type": "stream",
     "text": [
      "Train Epoch: 0 [0/60000 (0%)]\tLoss: 46232.957031\n",
      "Train Epoch: 0 [12800/60000 (21%)]\tLoss: 46405.281250\n",
      "Train Epoch: 0 [25600/60000 (43%)]\tLoss: 46315.304688\n",
      "Train Epoch: 0 [38400/60000 (64%)]\tLoss: 46420.500000\n",
      "Train Epoch: 0 [51200/60000 (85%)]\tLoss: 46176.585938\n",
      "====> Epoch: 0 Average loss: 46285.9980 \tLikelihood: -43977.413417\n",
      "====> Test set loss: 46242.9478\n",
      "Train Epoch: 1 [0/60000 (0%)]\tLoss: 46376.273438\n",
      "Train Epoch: 1 [12800/60000 (21%)]\tLoss: 46497.265625\n",
      "Train Epoch: 1 [25600/60000 (43%)]\tLoss: 46200.656250\n",
      "Train Epoch: 1 [38400/60000 (64%)]\tLoss: 46181.710938\n",
      "Train Epoch: 1 [51200/60000 (85%)]\tLoss: 46597.730469\n",
      "====> Epoch: 1 Average loss: 46287.1572 \tLikelihood: -43972.126758\n",
      "====> Test set loss: 46244.9335\n",
      "Train Epoch: 2 [0/60000 (0%)]\tLoss: 46100.242188\n",
      "Train Epoch: 2 [12800/60000 (21%)]\tLoss: 46003.234375\n",
      "Train Epoch: 2 [25600/60000 (43%)]\tLoss: 46293.414062\n",
      "Train Epoch: 2 [38400/60000 (64%)]\tLoss: 46110.382812\n",
      "Train Epoch: 2 [51200/60000 (85%)]\tLoss: 46154.156250\n",
      "====> Epoch: 2 Average loss: 46275.7729 \tLikelihood: -43973.989175\n",
      "====> Test set loss: 46237.5553\n",
      "Train Epoch: 3 [0/60000 (0%)]\tLoss: 46428.875000\n",
      "Train Epoch: 3 [12800/60000 (21%)]\tLoss: 46332.644531\n",
      "Train Epoch: 3 [25600/60000 (43%)]\tLoss: 46127.757812\n",
      "Train Epoch: 3 [38400/60000 (64%)]\tLoss: 46149.585938\n",
      "Train Epoch: 3 [51200/60000 (85%)]\tLoss: 46223.390625\n",
      "====> Epoch: 3 Average loss: 46288.3028 \tLikelihood: -43983.644617\n",
      "====> Test set loss: 46256.0462\n",
      "Train Epoch: 4 [0/60000 (0%)]\tLoss: 46388.500000\n",
      "Train Epoch: 4 [12800/60000 (21%)]\tLoss: 46406.687500\n",
      "Train Epoch: 4 [25600/60000 (43%)]\tLoss: 46316.250000\n",
      "Train Epoch: 4 [38400/60000 (64%)]\tLoss: 46356.531250\n",
      "Train Epoch: 4 [51200/60000 (85%)]\tLoss: 46353.925781\n",
      "====> Epoch: 4 Average loss: 46288.4272 \tLikelihood: -43971.992067\n",
      "====> Test set loss: 46239.8861\n",
      "Train Epoch: 5 [0/60000 (0%)]\tLoss: 46263.335938\n",
      "Train Epoch: 5 [12800/60000 (21%)]\tLoss: 46434.468750\n",
      "Train Epoch: 5 [25600/60000 (43%)]\tLoss: 46333.394531\n",
      "Train Epoch: 5 [38400/60000 (64%)]\tLoss: 46373.125000\n",
      "Train Epoch: 5 [51200/60000 (85%)]\tLoss: 46286.101562\n",
      "====> Epoch: 5 Average loss: 46281.3273 \tLikelihood: -43970.844300\n",
      "====> Test set loss: 46263.8083\n",
      "Train Epoch: 6 [0/60000 (0%)]\tLoss: 46375.144531\n",
      "Train Epoch: 6 [12800/60000 (21%)]\tLoss: 46151.605469\n",
      "Train Epoch: 6 [25600/60000 (43%)]\tLoss: 46401.289062\n",
      "Train Epoch: 6 [38400/60000 (64%)]\tLoss: 46300.796875\n",
      "Train Epoch: 6 [51200/60000 (85%)]\tLoss: 46363.312500\n",
      "====> Epoch: 6 Average loss: 46291.5183 \tLikelihood: -43972.655517\n",
      "====> Test set loss: 46239.9764\n",
      "Train Epoch: 7 [0/60000 (0%)]\tLoss: 46346.601562\n",
      "Train Epoch: 7 [12800/60000 (21%)]\tLoss: 46291.656250\n",
      "Train Epoch: 7 [25600/60000 (43%)]\tLoss: 46264.027344\n",
      "Train Epoch: 7 [38400/60000 (64%)]\tLoss: 46324.781250\n",
      "Train Epoch: 7 [51200/60000 (85%)]\tLoss: 46420.011719\n",
      "====> Epoch: 7 Average loss: 46284.2605 \tLikelihood: -43969.328267\n",
      "====> Test set loss: 46254.8397\n",
      "Train Epoch: 8 [0/60000 (0%)]\tLoss: 46441.257812\n",
      "Train Epoch: 8 [12800/60000 (21%)]\tLoss: 46600.757812\n",
      "Train Epoch: 8 [25600/60000 (43%)]\tLoss: 46309.015625\n",
      "Train Epoch: 8 [38400/60000 (64%)]\tLoss: 46291.835938\n",
      "Train Epoch: 8 [51200/60000 (85%)]\tLoss: 46486.890625\n",
      "====> Epoch: 8 Average loss: 46283.3605 \tLikelihood: -43974.083075\n",
      "====> Test set loss: 46260.3302\n",
      "Train Epoch: 9 [0/60000 (0%)]\tLoss: 46425.335938\n",
      "Train Epoch: 9 [12800/60000 (21%)]\tLoss: 46461.582031\n",
      "Train Epoch: 9 [25600/60000 (43%)]\tLoss: 46325.539062\n",
      "Train Epoch: 9 [38400/60000 (64%)]\tLoss: 46225.703125\n",
      "Train Epoch: 9 [51200/60000 (85%)]\tLoss: 46458.687500\n",
      "====> Epoch: 9 Average loss: 46288.4181 \tLikelihood: -43973.634992\n",
      "====> Test set loss: 46248.7115\n",
      "Train Epoch: 10 [0/60000 (0%)]\tLoss: 46254.550781\n",
      "Train Epoch: 10 [12800/60000 (21%)]\tLoss: 46532.382812\n",
      "Train Epoch: 10 [25600/60000 (43%)]\tLoss: 46337.320312\n",
      "Train Epoch: 10 [38400/60000 (64%)]\tLoss: 46037.539062\n",
      "Train Epoch: 10 [51200/60000 (85%)]\tLoss: 46579.773438\n",
      "====> Epoch: 10 Average loss: 46287.0910 \tLikelihood: -43975.246367\n",
      "====> Test set loss: 46250.2826\n",
      "Train Epoch: 11 [0/60000 (0%)]\tLoss: 46006.929688\n",
      "Train Epoch: 11 [12800/60000 (21%)]\tLoss: 46104.804688\n",
      "Train Epoch: 11 [25600/60000 (43%)]\tLoss: 46417.285156\n",
      "Train Epoch: 11 [38400/60000 (64%)]\tLoss: 46178.351562\n",
      "Train Epoch: 11 [51200/60000 (85%)]\tLoss: 46217.531250\n",
      "====> Epoch: 11 Average loss: 46293.2287 \tLikelihood: -43975.574992\n",
      "====> Test set loss: 46262.0265\n",
      "Train Epoch: 12 [0/60000 (0%)]\tLoss: 46354.125000\n",
      "Train Epoch: 12 [12800/60000 (21%)]\tLoss: 46366.289062\n",
      "Train Epoch: 12 [25600/60000 (43%)]\tLoss: 46457.625000\n",
      "Train Epoch: 12 [38400/60000 (64%)]\tLoss: 46159.125000\n",
      "Train Epoch: 12 [51200/60000 (85%)]\tLoss: 46160.757812\n",
      "====> Epoch: 12 Average loss: 46291.0298 \tLikelihood: -43977.510258\n",
      "====> Test set loss: 46262.3993\n",
      "Train Epoch: 13 [0/60000 (0%)]\tLoss: 46528.250000\n",
      "Train Epoch: 13 [12800/60000 (21%)]\tLoss: 46432.316406\n",
      "Train Epoch: 13 [25600/60000 (43%)]\tLoss: 46215.011719\n",
      "Train Epoch: 13 [38400/60000 (64%)]\tLoss: 46244.882812\n",
      "Train Epoch: 13 [51200/60000 (85%)]\tLoss: 46102.683594\n",
      "====> Epoch: 13 Average loss: 46279.5843 \tLikelihood: -43973.246792\n",
      "====> Test set loss: 46232.9122\n",
      "Train Epoch: 14 [0/60000 (0%)]\tLoss: 45859.898438\n",
      "Train Epoch: 14 [12800/60000 (21%)]\tLoss: 46282.882812\n",
      "Train Epoch: 14 [25600/60000 (43%)]\tLoss: 46367.207031\n",
      "Train Epoch: 14 [38400/60000 (64%)]\tLoss: 46320.953125\n",
      "Train Epoch: 14 [51200/60000 (85%)]\tLoss: 46368.527344\n",
      "====> Epoch: 14 Average loss: 46279.9904 \tLikelihood: -43979.368508\n",
      "====> Test set loss: 46232.9758\n"
     ]
    }
   ],
   "source": [
    "device = torch.device('cuda' if torch.cuda.is_available() else 'cpu')\n",
    "train_loader.dataset.data.shape[0]\n",
    "\n",
    "trainer = ModelTrainer(vae, train_loader, test_loader, n_epochs=30)\n",
    "trainer.train()"
   ]
  },
  {
   "cell_type": "code",
   "execution_count": 42,
   "metadata": {},
   "outputs": [
    {
     "data": {
      "text/plain": [
       "468.75"
      ]
     },
     "execution_count": 42,
     "metadata": {},
     "output_type": "execute_result"
    }
   ],
   "source": [
    "60000 / 128"
   ]
  },
  {
   "cell_type": "code",
   "execution_count": 7,
   "metadata": {},
   "outputs": [
    {
     "data": {
      "text/plain": [
       "<matplotlib.image.AxesImage at 0x7f6981c41bb0>"
      ]
     },
     "execution_count": 7,
     "metadata": {},
     "output_type": "execute_result"
    },
    {
     "data": {
      "image/png": "[encoded data removed]",
      "text/plain": [
       "<Figure size 288x288 with 1 Axes>"
      ]
     },
     "metadata": {
      "needs_background": "light"
     },
     "output_type": "display_data"
    }
   ],
   "source": [
    "with torch.no_grad():\n",
    "    z = torch.randn(64, 2).to(device)\n",
    "    sample = vae.decode(z)\n",
    "    sample = torch.reshape(sample, (64, 28, 28))\n",
    "plt.matshow(sample.cpu().numpy()[0])"
   ]
  },
  {
   "cell_type": "code",
   "execution_count": null,
   "metadata": {},
   "outputs": [],
   "source": []
  }
 ],
 "metadata": {
  "jupytext": {
   "formats": "ipynb,md"
  },
  "kernelspec": {
   "display_name": "phd",
   "language": "python",
   "name": "phd"
  },
  "language_info": {
   "codemirror_mode": {
    "name": "ipython",
    "version": 3
   },
   "file_extension": ".py",
   "mimetype": "text/x-python",
   "name": "python",
   "nbconvert_exporter": "python",
   "pygments_lexer": "ipython3",
   "version": "3.8.2"
  }
 },
 "nbformat": 4,
 "nbformat_minor": 4
}
